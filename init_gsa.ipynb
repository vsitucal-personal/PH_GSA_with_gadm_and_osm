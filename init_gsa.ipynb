{
 "cells": [
  {
   "cell_type": "code",
   "execution_count": 1,
   "id": "7beb4e5a-a98f-48a0-927e-ab2684295e68",
   "metadata": {
    "execution": {
     "iopub.execute_input": "2024-02-20T06:51:41.153785Z",
     "iopub.status.busy": "2024-02-20T06:51:41.152784Z",
     "iopub.status.idle": "2024-02-20T06:51:41.670277Z",
     "shell.execute_reply": "2024-02-20T06:51:41.670277Z",
     "shell.execute_reply.started": "2024-02-20T06:51:41.153785Z"
    }
   },
   "outputs": [],
   "source": [
    "import geopandas as gpd\n",
    "import sqlite3\n",
    "import pandas as pd"
   ]
  },
  {
   "cell_type": "markdown",
   "id": "b31312bd-fd6e-485c-9aa7-aa25fdf82205",
   "metadata": {},
   "source": [
    "# Initial Steps"
   ]
  },
  {
   "cell_type": "markdown",
   "id": "17700982-5192-4af9-9fc3-4a46ea5c0777",
   "metadata": {},
   "source": [
    "## Read shp files"
   ]
  },
  {
   "cell_type": "code",
   "execution_count": 2,
   "id": "02623374-79a2-406d-8f84-3c528653f860",
   "metadata": {
    "execution": {
     "iopub.execute_input": "2024-02-20T06:51:43.198275Z",
     "iopub.status.busy": "2024-02-20T06:51:43.197274Z",
     "iopub.status.idle": "2024-02-20T06:51:54.913659Z",
     "shell.execute_reply": "2024-02-20T06:51:54.912657Z",
     "shell.execute_reply.started": "2024-02-20T06:51:43.198275Z"
    }
   },
   "outputs": [],
   "source": [
    "gadm_df = gpd.read_file('gadm41_PHL_shp/gadm41_PHL_3.shp')"
   ]
  },
  {
   "cell_type": "code",
   "execution_count": 3,
   "id": "bf1a5f22-24e8-4dbb-8046-bc03e23eaf72",
   "metadata": {
    "execution": {
     "iopub.execute_input": "2024-02-20T06:51:54.914657Z",
     "iopub.status.busy": "2024-02-20T06:51:54.914657Z",
     "iopub.status.idle": "2024-02-20T06:52:12.561799Z",
     "shell.execute_reply": "2024-02-20T06:52:12.561248Z",
     "shell.execute_reply.started": "2024-02-20T06:51:54.914657Z"
    }
   },
   "outputs": [],
   "source": [
    "osm_df = gpd.read_file('philippines-latest-free.shp/gis_osm_pois_a_free_1.shp')"
   ]
  },
  {
   "cell_type": "code",
   "execution_count": 9,
   "id": "631dc893-3714-40c0-b793-ec10a917c07d",
   "metadata": {
    "execution": {
     "iopub.execute_input": "2024-02-20T07:01:16.200841Z",
     "iopub.status.busy": "2024-02-20T07:01:16.199841Z",
     "iopub.status.idle": "2024-02-20T07:01:58.820846Z",
     "shell.execute_reply": "2024-02-20T07:01:58.819839Z",
     "shell.execute_reply.started": "2024-02-20T07:01:16.200841Z"
    }
   },
   "outputs": [],
   "source": [
    "osm_pts_df = gpd.read_file('hotosm_phl_points_of_interest_points_shp/hotosm_phl_points_of_interest_points_shp.shp')"
   ]
  },
  {
   "cell_type": "code",
   "execution_count": 10,
   "id": "d52e7c39-cc70-4012-bcef-44dcc86d7c37",
   "metadata": {
    "execution": {
     "iopub.execute_input": "2024-02-20T07:01:58.821840Z",
     "iopub.status.busy": "2024-02-20T07:01:58.821840Z",
     "iopub.status.idle": "2024-02-20T07:01:58.868534Z",
     "shell.execute_reply": "2024-02-20T07:01:58.866533Z",
     "shell.execute_reply.started": "2024-02-20T07:01:58.821840Z"
    }
   },
   "outputs": [
    {
     "data": {
      "text/html": [
       "<div>\n",
       "<style scoped>\n",
       "    .dataframe tbody tr th:only-of-type {\n",
       "        vertical-align: middle;\n",
       "    }\n",
       "\n",
       "    .dataframe tbody tr th {\n",
       "        vertical-align: top;\n",
       "    }\n",
       "\n",
       "    .dataframe thead th {\n",
       "        text-align: right;\n",
       "    }\n",
       "</style>\n",
       "<table border=\"1\" class=\"dataframe\">\n",
       "  <thead>\n",
       "    <tr style=\"text-align: right;\">\n",
       "      <th></th>\n",
       "      <th>name</th>\n",
       "      <th>name_en</th>\n",
       "      <th>amenity</th>\n",
       "      <th>man_made</th>\n",
       "      <th>shop</th>\n",
       "      <th>tourism</th>\n",
       "      <th>opening_ho</th>\n",
       "      <th>beds</th>\n",
       "      <th>rooms</th>\n",
       "      <th>addr_full</th>\n",
       "      <th>addr_house</th>\n",
       "      <th>addr_stree</th>\n",
       "      <th>addr_city</th>\n",
       "      <th>source</th>\n",
       "      <th>name_fil</th>\n",
       "      <th>osm_id</th>\n",
       "      <th>osm_type</th>\n",
       "      <th>geometry</th>\n",
       "    </tr>\n",
       "  </thead>\n",
       "  <tbody>\n",
       "    <tr>\n",
       "      <th>0</th>\n",
       "      <td>None</td>\n",
       "      <td>None</td>\n",
       "      <td>ferry_terminal</td>\n",
       "      <td>None</td>\n",
       "      <td>None</td>\n",
       "      <td>None</td>\n",
       "      <td>None</td>\n",
       "      <td>None</td>\n",
       "      <td>None</td>\n",
       "      <td>None</td>\n",
       "      <td>None</td>\n",
       "      <td>None</td>\n",
       "      <td>None</td>\n",
       "      <td>None</td>\n",
       "      <td>None</td>\n",
       "      <td>8340552790</td>\n",
       "      <td>nodes</td>\n",
       "      <td>POINT (123.28010 12.22461)</td>\n",
       "    </tr>\n",
       "    <tr>\n",
       "      <th>1</th>\n",
       "      <td>Palawan Express</td>\n",
       "      <td>None</td>\n",
       "      <td>money_transfer</td>\n",
       "      <td>None</td>\n",
       "      <td>None</td>\n",
       "      <td>None</td>\n",
       "      <td>None</td>\n",
       "      <td>None</td>\n",
       "      <td>None</td>\n",
       "      <td>None</td>\n",
       "      <td>1</td>\n",
       "      <td>Juan Luna</td>\n",
       "      <td>None</td>\n",
       "      <td>None</td>\n",
       "      <td>None</td>\n",
       "      <td>10764757805</td>\n",
       "      <td>nodes</td>\n",
       "      <td>POINT (123.28357 12.22478)</td>\n",
       "    </tr>\n",
       "    <tr>\n",
       "      <th>2</th>\n",
       "      <td>None</td>\n",
       "      <td>None</td>\n",
       "      <td>doctors</td>\n",
       "      <td>None</td>\n",
       "      <td>None</td>\n",
       "      <td>None</td>\n",
       "      <td>None</td>\n",
       "      <td>None</td>\n",
       "      <td>None</td>\n",
       "      <td>None</td>\n",
       "      <td>None</td>\n",
       "      <td>Juan Luna</td>\n",
       "      <td>None</td>\n",
       "      <td>None</td>\n",
       "      <td>None</td>\n",
       "      <td>10765152820</td>\n",
       "      <td>nodes</td>\n",
       "      <td>POINT (123.28371 12.22485)</td>\n",
       "    </tr>\n",
       "    <tr>\n",
       "      <th>3</th>\n",
       "      <td>Mandaon Terminal</td>\n",
       "      <td>None</td>\n",
       "      <td>bus_station</td>\n",
       "      <td>None</td>\n",
       "      <td>None</td>\n",
       "      <td>None</td>\n",
       "      <td>Mo-Su 05:30-03:30</td>\n",
       "      <td>None</td>\n",
       "      <td>None</td>\n",
       "      <td>None</td>\n",
       "      <td>None</td>\n",
       "      <td>None</td>\n",
       "      <td>None</td>\n",
       "      <td>None</td>\n",
       "      <td>None</td>\n",
       "      <td>10764748805</td>\n",
       "      <td>nodes</td>\n",
       "      <td>POINT (123.28392 12.22497)</td>\n",
       "    </tr>\n",
       "    <tr>\n",
       "      <th>4</th>\n",
       "      <td>Iglesia Ni Cristo - Madalag Extension</td>\n",
       "      <td>None</td>\n",
       "      <td>place_of_worship</td>\n",
       "      <td>None</td>\n",
       "      <td>None</td>\n",
       "      <td>None</td>\n",
       "      <td>None</td>\n",
       "      <td>None</td>\n",
       "      <td>None</td>\n",
       "      <td>None</td>\n",
       "      <td>None</td>\n",
       "      <td>None</td>\n",
       "      <td>None</td>\n",
       "      <td>None</td>\n",
       "      <td>None</td>\n",
       "      <td>10297680713</td>\n",
       "      <td>nodes</td>\n",
       "      <td>POINT (122.03713 12.24144)</td>\n",
       "    </tr>\n",
       "    <tr>\n",
       "      <th>...</th>\n",
       "      <td>...</td>\n",
       "      <td>...</td>\n",
       "      <td>...</td>\n",
       "      <td>...</td>\n",
       "      <td>...</td>\n",
       "      <td>...</td>\n",
       "      <td>...</td>\n",
       "      <td>...</td>\n",
       "      <td>...</td>\n",
       "      <td>...</td>\n",
       "      <td>...</td>\n",
       "      <td>...</td>\n",
       "      <td>...</td>\n",
       "      <td>...</td>\n",
       "      <td>...</td>\n",
       "      <td>...</td>\n",
       "      <td>...</td>\n",
       "      <td>...</td>\n",
       "    </tr>\n",
       "    <tr>\n",
       "      <th>200579</th>\n",
       "      <td>JM Agrivet Supplies</td>\n",
       "      <td>None</td>\n",
       "      <td>None</td>\n",
       "      <td>None</td>\n",
       "      <td>animal_feed</td>\n",
       "      <td>None</td>\n",
       "      <td>None</td>\n",
       "      <td>None</td>\n",
       "      <td>None</td>\n",
       "      <td>None</td>\n",
       "      <td>None</td>\n",
       "      <td>None</td>\n",
       "      <td>None</td>\n",
       "      <td>None</td>\n",
       "      <td>None</td>\n",
       "      <td>11590899744</td>\n",
       "      <td>nodes</td>\n",
       "      <td>POINT (124.01200 10.72101)</td>\n",
       "    </tr>\n",
       "    <tr>\n",
       "      <th>200580</th>\n",
       "      <td>Villa Sandra</td>\n",
       "      <td>None</td>\n",
       "      <td>None</td>\n",
       "      <td>None</td>\n",
       "      <td>None</td>\n",
       "      <td>hostel</td>\n",
       "      <td>None</td>\n",
       "      <td>None</td>\n",
       "      <td>None</td>\n",
       "      <td>None</td>\n",
       "      <td>None</td>\n",
       "      <td>None</td>\n",
       "      <td>None</td>\n",
       "      <td>None</td>\n",
       "      <td>None</td>\n",
       "      <td>4161416389</td>\n",
       "      <td>nodes</td>\n",
       "      <td>POINT (124.11536 11.32997)</td>\n",
       "    </tr>\n",
       "    <tr>\n",
       "      <th>200581</th>\n",
       "      <td>Jumping cliff</td>\n",
       "      <td>None</td>\n",
       "      <td>None</td>\n",
       "      <td>None</td>\n",
       "      <td>None</td>\n",
       "      <td>viewpoint</td>\n",
       "      <td>None</td>\n",
       "      <td>None</td>\n",
       "      <td>None</td>\n",
       "      <td>None</td>\n",
       "      <td>None</td>\n",
       "      <td>None</td>\n",
       "      <td>None</td>\n",
       "      <td>None</td>\n",
       "      <td>None</td>\n",
       "      <td>6538984985</td>\n",
       "      <td>nodes</td>\n",
       "      <td>POINT (124.10627 11.34683)</td>\n",
       "    </tr>\n",
       "    <tr>\n",
       "      <th>200582</th>\n",
       "      <td>None</td>\n",
       "      <td>None</td>\n",
       "      <td>None</td>\n",
       "      <td>None</td>\n",
       "      <td>None</td>\n",
       "      <td>apartment</td>\n",
       "      <td>None</td>\n",
       "      <td>None</td>\n",
       "      <td>None</td>\n",
       "      <td>None</td>\n",
       "      <td>None</td>\n",
       "      <td>None</td>\n",
       "      <td>None</td>\n",
       "      <td>None</td>\n",
       "      <td>None</td>\n",
       "      <td>11590997769</td>\n",
       "      <td>nodes</td>\n",
       "      <td>POINT (120.83169 14.37424)</td>\n",
       "    </tr>\n",
       "    <tr>\n",
       "      <th>200583</th>\n",
       "      <td>None</td>\n",
       "      <td>None</td>\n",
       "      <td>None</td>\n",
       "      <td>None</td>\n",
       "      <td>None</td>\n",
       "      <td>apartment</td>\n",
       "      <td>None</td>\n",
       "      <td>None</td>\n",
       "      <td>None</td>\n",
       "      <td>None</td>\n",
       "      <td>None</td>\n",
       "      <td>Amaya VI</td>\n",
       "      <td>None</td>\n",
       "      <td>None</td>\n",
       "      <td>None</td>\n",
       "      <td>11590998669</td>\n",
       "      <td>nodes</td>\n",
       "      <td>POINT (120.83182 14.37591)</td>\n",
       "    </tr>\n",
       "  </tbody>\n",
       "</table>\n",
       "<p>200584 rows × 18 columns</p>\n",
       "</div>"
      ],
      "text/plain": [
       "                                         name name_en           amenity  \\\n",
       "0                                        None    None    ferry_terminal   \n",
       "1                             Palawan Express    None    money_transfer   \n",
       "2                                        None    None           doctors   \n",
       "3                            Mandaon Terminal    None       bus_station   \n",
       "4       Iglesia Ni Cristo - Madalag Extension    None  place_of_worship   \n",
       "...                                       ...     ...               ...   \n",
       "200579                    JM Agrivet Supplies    None              None   \n",
       "200580                           Villa Sandra    None              None   \n",
       "200581                          Jumping cliff    None              None   \n",
       "200582                                   None    None              None   \n",
       "200583                                   None    None              None   \n",
       "\n",
       "       man_made         shop    tourism         opening_ho  beds rooms  \\\n",
       "0          None         None       None               None  None  None   \n",
       "1          None         None       None               None  None  None   \n",
       "2          None         None       None               None  None  None   \n",
       "3          None         None       None  Mo-Su 05:30-03:30  None  None   \n",
       "4          None         None       None               None  None  None   \n",
       "...         ...          ...        ...                ...   ...   ...   \n",
       "200579     None  animal_feed       None               None  None  None   \n",
       "200580     None         None     hostel               None  None  None   \n",
       "200581     None         None  viewpoint               None  None  None   \n",
       "200582     None         None  apartment               None  None  None   \n",
       "200583     None         None  apartment               None  None  None   \n",
       "\n",
       "       addr_full addr_house addr_stree addr_city source name_fil       osm_id  \\\n",
       "0           None       None       None      None   None     None   8340552790   \n",
       "1           None          1  Juan Luna      None   None     None  10764757805   \n",
       "2           None       None  Juan Luna      None   None     None  10765152820   \n",
       "3           None       None       None      None   None     None  10764748805   \n",
       "4           None       None       None      None   None     None  10297680713   \n",
       "...          ...        ...        ...       ...    ...      ...          ...   \n",
       "200579      None       None       None      None   None     None  11590899744   \n",
       "200580      None       None       None      None   None     None   4161416389   \n",
       "200581      None       None       None      None   None     None   6538984985   \n",
       "200582      None       None       None      None   None     None  11590997769   \n",
       "200583      None       None   Amaya VI      None   None     None  11590998669   \n",
       "\n",
       "       osm_type                    geometry  \n",
       "0         nodes  POINT (123.28010 12.22461)  \n",
       "1         nodes  POINT (123.28357 12.22478)  \n",
       "2         nodes  POINT (123.28371 12.22485)  \n",
       "3         nodes  POINT (123.28392 12.22497)  \n",
       "4         nodes  POINT (122.03713 12.24144)  \n",
       "...         ...                         ...  \n",
       "200579    nodes  POINT (124.01200 10.72101)  \n",
       "200580    nodes  POINT (124.11536 11.32997)  \n",
       "200581    nodes  POINT (124.10627 11.34683)  \n",
       "200582    nodes  POINT (120.83169 14.37424)  \n",
       "200583    nodes  POINT (120.83182 14.37591)  \n",
       "\n",
       "[200584 rows x 18 columns]"
      ]
     },
     "execution_count": 10,
     "metadata": {},
     "output_type": "execute_result"
    }
   ],
   "source": [
    "osm_pts_df"
   ]
  },
  {
   "cell_type": "markdown",
   "id": "6c2944cb-4449-4d55-8634-c2c3ba206330",
   "metadata": {},
   "source": [
    "## Prep data before saving to avoid utf-8 errors when querying"
   ]
  },
  {
   "cell_type": "code",
   "execution_count": 12,
   "id": "4eb494cb-b99a-4fa1-a4c3-a0692cef96e9",
   "metadata": {
    "execution": {
     "iopub.execute_input": "2024-02-20T07:06:08.547963Z",
     "iopub.status.busy": "2024-02-20T07:06:08.547963Z",
     "iopub.status.idle": "2024-02-20T07:06:10.279862Z",
     "shell.execute_reply": "2024-02-20T07:06:10.278911Z",
     "shell.execute_reply.started": "2024-02-20T07:06:08.547963Z"
    }
   },
   "outputs": [],
   "source": [
    "for geo_df in [gadm_df, osm_df, osm_pts_df]:\n",
    "    for col in geo_df.select_dtypes(include=['object']).columns:\n",
    "        geo_df[col] = geo_df[col].str.normalize('NFKD').str.encode('ascii', errors='ignore').str.decode('utf-8')"
   ]
  },
  {
   "cell_type": "markdown",
   "id": "745640c6-aac2-4625-917e-a25c404682c2",
   "metadata": {},
   "source": [
    "## Save to map.sqlite"
   ]
  },
  {
   "cell_type": "code",
   "execution_count": 5,
   "id": "bee1ecb5-f649-4727-be81-69cee78e7c60",
   "metadata": {
    "execution": {
     "iopub.execute_input": "2024-02-20T06:52:13.489274Z",
     "iopub.status.busy": "2024-02-20T06:52:13.489274Z",
     "iopub.status.idle": "2024-02-20T06:52:23.167993Z",
     "shell.execute_reply": "2024-02-20T06:52:23.167993Z",
     "shell.execute_reply.started": "2024-02-20T06:52:13.489274Z"
    }
   },
   "outputs": [],
   "source": [
    "gadm_df.to_file(\"map.sqlite\", driver=\"SQLite\", layer=\"gadm_ph\")"
   ]
  },
  {
   "cell_type": "code",
   "execution_count": 6,
   "id": "1f9768ea-2d52-4c4d-b2bd-a78b84eb6ae5",
   "metadata": {
    "execution": {
     "iopub.execute_input": "2024-02-20T06:52:23.169997Z",
     "iopub.status.busy": "2024-02-20T06:52:23.168995Z",
     "iopub.status.idle": "2024-02-20T06:52:41.605996Z",
     "shell.execute_reply": "2024-02-20T06:52:41.604996Z",
     "shell.execute_reply.started": "2024-02-20T06:52:23.169997Z"
    }
   },
   "outputs": [],
   "source": [
    "osm_df.to_file(\"map.sqlite\", driver=\"SQLite\", layer=\"osm_ph\")"
   ]
  },
  {
   "cell_type": "code",
   "execution_count": 13,
   "id": "447a9e3d-4f23-4cc2-a8d8-987142b015ac",
   "metadata": {
    "execution": {
     "iopub.execute_input": "2024-02-20T07:06:14.024139Z",
     "iopub.status.busy": "2024-02-20T07:06:14.023053Z",
     "iopub.status.idle": "2024-02-20T07:06:37.573958Z",
     "shell.execute_reply": "2024-02-20T07:06:37.572960Z",
     "shell.execute_reply.started": "2024-02-20T07:06:14.024139Z"
    }
   },
   "outputs": [],
   "source": [
    "osm_pts_df.to_file(\"map.sqlite\", driver=\"SQLite\", layer=\"osm_ph_pts\")"
   ]
  },
  {
   "cell_type": "markdown",
   "id": "17f51059-d8e9-483d-8f4b-05cec8d6e038",
   "metadata": {},
   "source": [
    "## Verify query if tables exist"
   ]
  },
  {
   "cell_type": "code",
   "execution_count": 14,
   "id": "517f8fa7-0142-4eaf-90ef-199220532ef6",
   "metadata": {
    "execution": {
     "iopub.execute_input": "2024-02-20T07:06:37.576471Z",
     "iopub.status.busy": "2024-02-20T07:06:37.575464Z",
     "iopub.status.idle": "2024-02-20T07:06:37.589497Z",
     "shell.execute_reply": "2024-02-20T07:06:37.588499Z",
     "shell.execute_reply.started": "2024-02-20T07:06:37.576471Z"
    }
   },
   "outputs": [],
   "source": [
    "conn = sqlite3.connect('map.sqlite')"
   ]
  },
  {
   "cell_type": "code",
   "execution_count": 15,
   "id": "1c3cf527-7771-496b-a538-5f9e6c8e8d07",
   "metadata": {
    "execution": {
     "iopub.execute_input": "2024-02-20T07:06:37.590499Z",
     "iopub.status.busy": "2024-02-20T07:06:37.590499Z",
     "iopub.status.idle": "2024-02-20T07:06:37.622118Z",
     "shell.execute_reply": "2024-02-20T07:06:37.620116Z",
     "shell.execute_reply.started": "2024-02-20T07:06:37.590499Z"
    }
   },
   "outputs": [
    {
     "data": {
      "text/html": [
       "<div>\n",
       "<style scoped>\n",
       "    .dataframe tbody tr th:only-of-type {\n",
       "        vertical-align: middle;\n",
       "    }\n",
       "\n",
       "    .dataframe tbody tr th {\n",
       "        vertical-align: top;\n",
       "    }\n",
       "\n",
       "    .dataframe thead th {\n",
       "        text-align: right;\n",
       "    }\n",
       "</style>\n",
       "<table border=\"1\" class=\"dataframe\">\n",
       "  <thead>\n",
       "    <tr style=\"text-align: right;\">\n",
       "      <th></th>\n",
       "      <th>name</th>\n",
       "    </tr>\n",
       "  </thead>\n",
       "  <tbody>\n",
       "    <tr>\n",
       "      <th>0</th>\n",
       "      <td>geometry_columns</td>\n",
       "    </tr>\n",
       "    <tr>\n",
       "      <th>1</th>\n",
       "      <td>spatial_ref_sys</td>\n",
       "    </tr>\n",
       "    <tr>\n",
       "      <th>2</th>\n",
       "      <td>gadm_ph</td>\n",
       "    </tr>\n",
       "    <tr>\n",
       "      <th>3</th>\n",
       "      <td>sqlite_sequence</td>\n",
       "    </tr>\n",
       "    <tr>\n",
       "      <th>4</th>\n",
       "      <td>osm_ph</td>\n",
       "    </tr>\n",
       "    <tr>\n",
       "      <th>5</th>\n",
       "      <td>osm_ph_pts</td>\n",
       "    </tr>\n",
       "  </tbody>\n",
       "</table>\n",
       "</div>"
      ],
      "text/plain": [
       "               name\n",
       "0  geometry_columns\n",
       "1   spatial_ref_sys\n",
       "2           gadm_ph\n",
       "3   sqlite_sequence\n",
       "4            osm_ph\n",
       "5        osm_ph_pts"
      ]
     },
     "execution_count": 15,
     "metadata": {},
     "output_type": "execute_result"
    }
   ],
   "source": [
    "sql = '''\n",
    "SELECT name\n",
    "FROM sqlite_master\n",
    "WHERE type = 'table'\n",
    "'''\n",
    "pd.read_sql(sql, conn)"
   ]
  },
  {
   "cell_type": "code",
   "execution_count": null,
   "id": "660089da-95de-4ff1-a0ed-3b80914fcb3a",
   "metadata": {},
   "outputs": [],
   "source": []
  }
 ],
 "metadata": {
  "kernelspec": {
   "display_name": "Python 3 (ipykernel)",
   "language": "python",
   "name": "python3"
  },
  "language_info": {
   "codemirror_mode": {
    "name": "ipython",
    "version": 3
   },
   "file_extension": ".py",
   "mimetype": "text/x-python",
   "name": "python",
   "nbconvert_exporter": "python",
   "pygments_lexer": "ipython3",
   "version": "3.9.13"
  }
 },
 "nbformat": 4,
 "nbformat_minor": 5
}
