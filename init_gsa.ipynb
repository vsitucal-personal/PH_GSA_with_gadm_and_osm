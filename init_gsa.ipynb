{
 "cells": [
  {
   "cell_type": "code",
   "execution_count": 1,
   "id": "7beb4e5a-a98f-48a0-927e-ab2684295e68",
   "metadata": {
    "execution": {
     "iopub.execute_input": "2024-02-20T06:51:41.153785Z",
     "iopub.status.busy": "2024-02-20T06:51:41.152784Z",
     "iopub.status.idle": "2024-02-20T06:51:41.670277Z",
     "shell.execute_reply": "2024-02-20T06:51:41.670277Z",
     "shell.execute_reply.started": "2024-02-20T06:51:41.153785Z"
    }
   },
   "outputs": [],
   "source": [
    "import geopandas as gpd\n",
    "import sqlite3\n",
    "import pandas as pd"
   ]
  },
  {
   "cell_type": "markdown",
   "id": "b31312bd-fd6e-485c-9aa7-aa25fdf82205",
   "metadata": {},
   "source": [
    "# Initial Steps"
   ]
  },
  {
   "cell_type": "markdown",
   "id": "17700982-5192-4af9-9fc3-4a46ea5c0777",
   "metadata": {},
   "source": [
    "## Read shp files"
   ]
  },
  {
   "cell_type": "code",
   "execution_count": 2,
   "id": "02623374-79a2-406d-8f84-3c528653f860",
   "metadata": {
    "execution": {
     "iopub.execute_input": "2024-02-20T06:51:43.198275Z",
     "iopub.status.busy": "2024-02-20T06:51:43.197274Z",
     "iopub.status.idle": "2024-02-20T06:51:54.913659Z",
     "shell.execute_reply": "2024-02-20T06:51:54.912657Z",
     "shell.execute_reply.started": "2024-02-20T06:51:43.198275Z"
    }
   },
   "outputs": [],
   "source": [
    "gadm_df = gpd.read_file('gadm41_PHL_shp/gadm41_PHL_3.shp')"
   ]
  },
  {
   "cell_type": "code",
   "execution_count": 3,
   "id": "bf1a5f22-24e8-4dbb-8046-bc03e23eaf72",
   "metadata": {
    "execution": {
     "iopub.execute_input": "2024-02-20T06:51:54.914657Z",
     "iopub.status.busy": "2024-02-20T06:51:54.914657Z",
     "iopub.status.idle": "2024-02-20T06:52:12.561799Z",
     "shell.execute_reply": "2024-02-20T06:52:12.561248Z",
     "shell.execute_reply.started": "2024-02-20T06:51:54.914657Z"
    }
   },
   "outputs": [],
   "source": [
    "osm_df = gpd.read_file('philippines-latest-free.shp/gis_osm_pois_a_free_1.shp')"
   ]
  },
  {
   "cell_type": "code",
   "execution_count": 9,
   "id": "631dc893-3714-40c0-b793-ec10a917c07d",
   "metadata": {
    "execution": {
     "iopub.execute_input": "2024-02-20T07:01:16.200841Z",
     "iopub.status.busy": "2024-02-20T07:01:16.199841Z",
     "iopub.status.idle": "2024-02-20T07:01:58.820846Z",
     "shell.execute_reply": "2024-02-20T07:01:58.819839Z",
     "shell.execute_reply.started": "2024-02-20T07:01:16.200841Z"
    }
   },
   "outputs": [],
   "source": [
    "osm_pts_df = gpd.read_file('hotosm_phl_points_of_interest_points_shp/hotosm_phl_points_of_interest_points_shp.shp')"
   ]
  },
  {
   "cell_type": "markdown",
   "id": "6c2944cb-4449-4d55-8634-c2c3ba206330",
   "metadata": {},
   "source": [
    "## Prep data before saving to avoid utf-8 errors when querying"
   ]
  },
  {
   "cell_type": "code",
   "execution_count": 12,
   "id": "4eb494cb-b99a-4fa1-a4c3-a0692cef96e9",
   "metadata": {
    "execution": {
     "iopub.execute_input": "2024-02-20T07:06:08.547963Z",
     "iopub.status.busy": "2024-02-20T07:06:08.547963Z",
     "iopub.status.idle": "2024-02-20T07:06:10.279862Z",
     "shell.execute_reply": "2024-02-20T07:06:10.278911Z",
     "shell.execute_reply.started": "2024-02-20T07:06:08.547963Z"
    }
   },
   "outputs": [],
   "source": [
    "for geo_df in [gadm_df, osm_df, osm_pts_df]:\n",
    "    for col in geo_df.select_dtypes(include=['object']).columns:\n",
    "        geo_df[col] = geo_df[col].str.normalize('NFKD').str.encode('ascii', errors='ignore').str.decode('utf-8')"
   ]
  },
  {
   "cell_type": "markdown",
   "id": "745640c6-aac2-4625-917e-a25c404682c2",
   "metadata": {},
   "source": [
    "## Save to map.sqlite"
   ]
  },
  {
   "cell_type": "code",
   "execution_count": 5,
   "id": "bee1ecb5-f649-4727-be81-69cee78e7c60",
   "metadata": {
    "execution": {
     "iopub.execute_input": "2024-02-20T06:52:13.489274Z",
     "iopub.status.busy": "2024-02-20T06:52:13.489274Z",
     "iopub.status.idle": "2024-02-20T06:52:23.167993Z",
     "shell.execute_reply": "2024-02-20T06:52:23.167993Z",
     "shell.execute_reply.started": "2024-02-20T06:52:13.489274Z"
    },
    "jupyter": {
     "source_hidden": true
    }
   },
   "outputs": [],
   "source": [
    "gadm_df.to_file(\"map.sqlite\", driver=\"SQLite\", layer=\"gadm_ph\")"
   ]
  },
  {
   "cell_type": "code",
   "execution_count": 6,
   "id": "1f9768ea-2d52-4c4d-b2bd-a78b84eb6ae5",
   "metadata": {
    "execution": {
     "iopub.execute_input": "2024-02-20T06:52:23.169997Z",
     "iopub.status.busy": "2024-02-20T06:52:23.168995Z",
     "iopub.status.idle": "2024-02-20T06:52:41.605996Z",
     "shell.execute_reply": "2024-02-20T06:52:41.604996Z",
     "shell.execute_reply.started": "2024-02-20T06:52:23.169997Z"
    }
   },
   "outputs": [],
   "source": [
    "osm_df.to_file(\"map.sqlite\", driver=\"SQLite\", layer=\"osm_ph\")"
   ]
  },
  {
   "cell_type": "code",
   "execution_count": 13,
   "id": "447a9e3d-4f23-4cc2-a8d8-987142b015ac",
   "metadata": {
    "execution": {
     "iopub.execute_input": "2024-02-20T07:06:14.024139Z",
     "iopub.status.busy": "2024-02-20T07:06:14.023053Z",
     "iopub.status.idle": "2024-02-20T07:06:37.573958Z",
     "shell.execute_reply": "2024-02-20T07:06:37.572960Z",
     "shell.execute_reply.started": "2024-02-20T07:06:14.024139Z"
    }
   },
   "outputs": [],
   "source": [
    "osm_pts_df.to_file(\"map.sqlite\", driver=\"SQLite\", layer=\"osm_ph_pts\")"
   ]
  },
  {
   "cell_type": "markdown",
   "id": "17f51059-d8e9-483d-8f4b-05cec8d6e038",
   "metadata": {},
   "source": [
    "## Verify query if tables exist"
   ]
  },
  {
   "cell_type": "code",
   "execution_count": 14,
   "id": "517f8fa7-0142-4eaf-90ef-199220532ef6",
   "metadata": {
    "execution": {
     "iopub.execute_input": "2024-02-20T07:06:37.576471Z",
     "iopub.status.busy": "2024-02-20T07:06:37.575464Z",
     "iopub.status.idle": "2024-02-20T07:06:37.589497Z",
     "shell.execute_reply": "2024-02-20T07:06:37.588499Z",
     "shell.execute_reply.started": "2024-02-20T07:06:37.576471Z"
    }
   },
   "outputs": [],
   "source": [
    "conn = sqlite3.connect('map.sqlite')"
   ]
  },
  {
   "cell_type": "code",
   "execution_count": 15,
   "id": "1c3cf527-7771-496b-a538-5f9e6c8e8d07",
   "metadata": {
    "execution": {
     "iopub.execute_input": "2024-02-20T07:06:37.590499Z",
     "iopub.status.busy": "2024-02-20T07:06:37.590499Z",
     "iopub.status.idle": "2024-02-20T07:06:37.622118Z",
     "shell.execute_reply": "2024-02-20T07:06:37.620116Z",
     "shell.execute_reply.started": "2024-02-20T07:06:37.590499Z"
    }
   },
   "outputs": [
    {
     "data": {
      "text/html": [
       "<div>\n",
       "<style scoped>\n",
       "    .dataframe tbody tr th:only-of-type {\n",
       "        vertical-align: middle;\n",
       "    }\n",
       "\n",
       "    .dataframe tbody tr th {\n",
       "        vertical-align: top;\n",
       "    }\n",
       "\n",
       "    .dataframe thead th {\n",
       "        text-align: right;\n",
       "    }\n",
       "</style>\n",
       "<table border=\"1\" class=\"dataframe\">\n",
       "  <thead>\n",
       "    <tr style=\"text-align: right;\">\n",
       "      <th></th>\n",
       "      <th>name</th>\n",
       "    </tr>\n",
       "  </thead>\n",
       "  <tbody>\n",
       "    <tr>\n",
       "      <th>0</th>\n",
       "      <td>geometry_columns</td>\n",
       "    </tr>\n",
       "    <tr>\n",
       "      <th>1</th>\n",
       "      <td>spatial_ref_sys</td>\n",
       "    </tr>\n",
       "    <tr>\n",
       "      <th>2</th>\n",
       "      <td>gadm_ph</td>\n",
       "    </tr>\n",
       "    <tr>\n",
       "      <th>3</th>\n",
       "      <td>sqlite_sequence</td>\n",
       "    </tr>\n",
       "    <tr>\n",
       "      <th>4</th>\n",
       "      <td>osm_ph</td>\n",
       "    </tr>\n",
       "    <tr>\n",
       "      <th>5</th>\n",
       "      <td>osm_ph_pts</td>\n",
       "    </tr>\n",
       "  </tbody>\n",
       "</table>\n",
       "</div>"
      ],
      "text/plain": [
       "               name\n",
       "0  geometry_columns\n",
       "1   spatial_ref_sys\n",
       "2           gadm_ph\n",
       "3   sqlite_sequence\n",
       "4            osm_ph\n",
       "5        osm_ph_pts"
      ]
     },
     "execution_count": 15,
     "metadata": {},
     "output_type": "execute_result"
    }
   ],
   "source": [
    "sql = '''\n",
    "SELECT name\n",
    "FROM sqlite_master\n",
    "WHERE type = 'table'\n",
    "'''\n",
    "pd.read_sql(sql, conn)"
   ]
  },
  {
   "cell_type": "code",
   "execution_count": null,
   "id": "660089da-95de-4ff1-a0ed-3b80914fcb3a",
   "metadata": {},
   "outputs": [],
   "source": []
  }
 ],
 "metadata": {
  "kernelspec": {
   "display_name": "Python 3 (ipykernel)",
   "language": "python",
   "name": "python3"
  },
  "language_info": {
   "codemirror_mode": {
    "name": "ipython",
    "version": 3
   },
   "file_extension": ".py",
   "mimetype": "text/x-python",
   "name": "python",
   "nbconvert_exporter": "python",
   "pygments_lexer": "ipython3",
   "version": "3.9.13"
  }
 },
 "nbformat": 4,
 "nbformat_minor": 5
}
